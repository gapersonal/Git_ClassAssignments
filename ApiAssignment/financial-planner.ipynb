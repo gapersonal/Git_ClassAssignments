{
 "cells": [
  {
   "cell_type": "markdown",
   "metadata": {},
   "source": [
    "# Unit 5 - Financial Planning\n"
   ]
  },
  {
   "cell_type": "code",
   "execution_count": 1,
   "metadata": {},
   "outputs": [],
   "source": [
    "# Initial imports\n",
    "import os\n",
    "import requests\n",
    "import pandas as pd\n",
    "from dotenv import load_dotenv\n",
    "import alpaca_trade_api as tradeapi\n",
    "from MCForecastTools import MCSimulation\n",
    "\n",
    "%matplotlib inline"
   ]
  },
  {
   "cell_type": "code",
   "execution_count": 2,
   "metadata": {},
   "outputs": [
    {
     "data": {
      "text/plain": [
       "True"
      ]
     },
     "execution_count": 2,
     "metadata": {},
     "output_type": "execute_result"
    }
   ],
   "source": [
    "# Load .env enviroment variables\n",
    "load_dotenv()"
   ]
  },
  {
   "cell_type": "code",
   "execution_count": 3,
   "metadata": {},
   "outputs": [
    {
     "data": {
      "text/plain": [
       "str"
      ]
     },
     "execution_count": 3,
     "metadata": {},
     "output_type": "execute_result"
    }
   ],
   "source": [
    "api_key = os.getenv(\"QUANDL_API_KEY\")\n",
    "type(api_key)"
   ]
  },
  {
   "cell_type": "code",
   "execution_count": 4,
   "metadata": {},
   "outputs": [],
   "source": [
    "alpaca_api_key = os.getenv(\"ALPACA_API_KEY\")\n",
    "alpaca_secret_key = os.getenv(\"ALPACA_SECRET_KEY\")"
   ]
  },
  {
   "cell_type": "markdown",
   "metadata": {},
   "source": [
    "## Part 1 - Personal Finance Planner"
   ]
  },
  {
   "cell_type": "markdown",
   "metadata": {},
   "source": [
    "### Collect Crypto Prices Using the `requests` Library"
   ]
  },
  {
   "cell_type": "code",
   "execution_count": 5,
   "metadata": {},
   "outputs": [],
   "source": [
    "# Set current amount of crypto assets\n",
    "my_btc = 1.2\n",
    "my_eth = 5.3"
   ]
  },
  {
   "cell_type": "code",
   "execution_count": 6,
   "metadata": {},
   "outputs": [],
   "source": [
    "# Crypto API URLs\n",
    "btc_url = \"https://api.alternative.me/v2/ticker/Bitcoin/?convert=CAD\"\n",
    "eth_url = \"https://api.alternative.me/v2/ticker/Ethereum/?convert=CAD\""
   ]
  },
  {
   "cell_type": "code",
   "execution_count": 7,
   "metadata": {},
   "outputs": [
    {
     "data": {
      "text/plain": [
       "{'data': {'1': {'id': 1,\n",
       "   'name': 'Bitcoin',\n",
       "   'symbol': 'BTC',\n",
       "   'website_slug': 'bitcoin',\n",
       "   'rank': 1,\n",
       "   'circulating_supply': 18615181,\n",
       "   'total_supply': 18615181,\n",
       "   'max_supply': 21000000,\n",
       "   'quotes': {'USD': {'price': 33946.0,\n",
       "     'volume_24h': 47327715225,\n",
       "     'market_cap': 632491456603,\n",
       "     'percentage_change_1h': 0.452863610027213,\n",
       "     'percentage_change_24h': 2.11891431642344,\n",
       "     'percentage_change_7d': 5.85753980193673,\n",
       "     'percent_change_1h': 0.452863610027213,\n",
       "     'percent_change_24h': 2.11891431642344,\n",
       "     'percent_change_7d': 5.85753980193673}},\n",
       "   'last_updated': 1612069377}},\n",
       " 'metadata': {'timestamp': 1612069377,\n",
       "  'num_cryptocurrencies': 1371,\n",
       "  'error': None}}"
      ]
     },
     "execution_count": 7,
     "metadata": {},
     "output_type": "execute_result"
    }
   ],
   "source": [
    "# Fetch current BTC price\n",
    "btc_url = btc_url + \"?format=json\"\n",
    "btc_response = requests.get(btc_url).json()\n",
    "btc_response"
   ]
  },
  {
   "cell_type": "code",
   "execution_count": 8,
   "metadata": {},
   "outputs": [],
   "source": [
    "btc_price = btc_response['data']['1']['quotes']['USD']['price']"
   ]
  },
  {
   "cell_type": "code",
   "execution_count": 9,
   "metadata": {},
   "outputs": [
    {
     "data": {
      "text/plain": [
       "{'data': {'1027': {'id': 1027,\n",
       "   'name': 'Ethereum',\n",
       "   'symbol': 'ETH',\n",
       "   'website_slug': 'ethereum',\n",
       "   'rank': 2,\n",
       "   'circulating_supply': 114473452,\n",
       "   'total_supply': 114473452,\n",
       "   'max_supply': 0,\n",
       "   'quotes': {'USD': {'price': 1354.51,\n",
       "     'volume_24h': 26419821797,\n",
       "     'market_cap': 155455273251,\n",
       "     'percentage_change_1h': 0.261178486922745,\n",
       "     'percentage_change_24h': 1.75942880999164,\n",
       "     'percentage_change_7d': 10.017298252141,\n",
       "     'percent_change_1h': 0.261178486922745,\n",
       "     'percent_change_24h': 1.75942880999164,\n",
       "     'percent_change_7d': 10.017298252141}},\n",
       "   'last_updated': 1612069421}},\n",
       " 'metadata': {'timestamp': 1612069421,\n",
       "  'num_cryptocurrencies': 1371,\n",
       "  'error': None}}"
      ]
     },
     "execution_count": 9,
     "metadata": {},
     "output_type": "execute_result"
    }
   ],
   "source": [
    "# Fetch current ETH price\n",
    "eth_url = eth_url + api_key\n",
    "eth_response = requests.get(eth_url).json()\n",
    "eth_response"
   ]
  },
  {
   "cell_type": "code",
   "execution_count": 10,
   "metadata": {},
   "outputs": [],
   "source": [
    "eth_price = eth_response['data']['1027']['quotes']['USD']['price']"
   ]
  },
  {
   "cell_type": "code",
   "execution_count": 11,
   "metadata": {},
   "outputs": [
    {
     "name": "stdout",
     "output_type": "stream",
     "text": [
      "The current value of your 1.2 BTC is $40735.20\n",
      "The current value of your 5.3 ETH is $7178.90\n"
     ]
    }
   ],
   "source": [
    "# Compute current value of my crpto\n",
    "my_btc_value = my_btc * btc_price\n",
    "my_eth_value = my_eth * eth_price\n",
    "\n",
    "# Print current crypto wallet balance\n",
    "print(f\"The current value of your {my_btc} BTC is ${my_btc_value:0.2f}\")\n",
    "print(f\"The current value of your {my_eth} ETH is ${my_eth_value:0.2f}\")"
   ]
  },
  {
   "cell_type": "markdown",
   "metadata": {},
   "source": [
    "### Collect Investments Data Using Alpaca: `SPY` (stocks) and `AGG` (bonds)"
   ]
  },
  {
   "cell_type": "code",
   "execution_count": 12,
   "metadata": {},
   "outputs": [],
   "source": [
    "# Current amount of shares\n",
    "my_spy = 50\n",
    "my_agg = 200\n"
   ]
  },
  {
   "cell_type": "code",
   "execution_count": 13,
   "metadata": {},
   "outputs": [],
   "source": [
    "# Set Alpaca API key and secret\n",
    "alpaca_api_key = os.getenv(\"alpaca_api\")\n",
    "alpaca_secret_key = os.getenv(\"aplaca_secret_key\")\n",
    "\n",
    "# Create the Alpaca API object\n",
    "alpaca = tradeapi.REST(\n",
    "    alpaca_api_key,\n",
    "    alpaca_secret_key,\n",
    "    api_version=\"v2\")"
   ]
  },
  {
   "cell_type": "code",
   "execution_count": 14,
   "metadata": {},
   "outputs": [
    {
     "data": {
      "text/html": [
       "<div>\n",
       "<style scoped>\n",
       "    .dataframe tbody tr th:only-of-type {\n",
       "        vertical-align: middle;\n",
       "    }\n",
       "\n",
       "    .dataframe tbody tr th {\n",
       "        vertical-align: top;\n",
       "    }\n",
       "\n",
       "    .dataframe thead tr th {\n",
       "        text-align: left;\n",
       "    }\n",
       "</style>\n",
       "<table border=\"1\" class=\"dataframe\">\n",
       "  <thead>\n",
       "    <tr>\n",
       "      <th></th>\n",
       "      <th colspan=\"5\" halign=\"left\">AGG</th>\n",
       "      <th colspan=\"5\" halign=\"left\">SPY</th>\n",
       "    </tr>\n",
       "    <tr>\n",
       "      <th></th>\n",
       "      <th>open</th>\n",
       "      <th>high</th>\n",
       "      <th>low</th>\n",
       "      <th>close</th>\n",
       "      <th>volume</th>\n",
       "      <th>open</th>\n",
       "      <th>high</th>\n",
       "      <th>low</th>\n",
       "      <th>close</th>\n",
       "      <th>volume</th>\n",
       "    </tr>\n",
       "  </thead>\n",
       "  <tbody>\n",
       "    <tr>\n",
       "      <th>2020-01-29 00:00:00-05:00</th>\n",
       "      <td>114.130</td>\n",
       "      <td>114.3500</td>\n",
       "      <td>114.1108</td>\n",
       "      <td>114.30</td>\n",
       "      <td>2630910</td>\n",
       "      <td>328.38</td>\n",
       "      <td>328.63</td>\n",
       "      <td>326.40</td>\n",
       "      <td>326.62</td>\n",
       "      <td>41098344</td>\n",
       "    </tr>\n",
       "    <tr>\n",
       "      <th>2020-01-30 00:00:00-05:00</th>\n",
       "      <td>114.280</td>\n",
       "      <td>114.5400</td>\n",
       "      <td>114.2350</td>\n",
       "      <td>114.32</td>\n",
       "      <td>5275931</td>\n",
       "      <td>324.36</td>\n",
       "      <td>327.91</td>\n",
       "      <td>323.54</td>\n",
       "      <td>327.66</td>\n",
       "      <td>63015371</td>\n",
       "    </tr>\n",
       "    <tr>\n",
       "      <th>2020-01-31 00:00:00-05:00</th>\n",
       "      <td>114.480</td>\n",
       "      <td>114.6667</td>\n",
       "      <td>114.3800</td>\n",
       "      <td>114.64</td>\n",
       "      <td>4547253</td>\n",
       "      <td>327.00</td>\n",
       "      <td>327.17</td>\n",
       "      <td>320.74</td>\n",
       "      <td>321.74</td>\n",
       "      <td>88674257</td>\n",
       "    </tr>\n",
       "    <tr>\n",
       "      <th>2020-02-03 00:00:00-05:00</th>\n",
       "      <td>114.215</td>\n",
       "      <td>114.4100</td>\n",
       "      <td>114.0848</td>\n",
       "      <td>114.36</td>\n",
       "      <td>6461793</td>\n",
       "      <td>323.35</td>\n",
       "      <td>326.16</td>\n",
       "      <td>323.22</td>\n",
       "      <td>324.14</td>\n",
       "      <td>55970373</td>\n",
       "    </tr>\n",
       "    <tr>\n",
       "      <th>2020-02-04 00:00:00-05:00</th>\n",
       "      <td>114.100</td>\n",
       "      <td>114.1000</td>\n",
       "      <td>113.8880</td>\n",
       "      <td>114.00</td>\n",
       "      <td>3260230</td>\n",
       "      <td>328.07</td>\n",
       "      <td>330.01</td>\n",
       "      <td>327.72</td>\n",
       "      <td>329.08</td>\n",
       "      <td>49979314</td>\n",
       "    </tr>\n",
       "  </tbody>\n",
       "</table>\n",
       "</div>"
      ],
      "text/plain": [
       "                               AGG                                       \\\n",
       "                              open      high       low   close   volume   \n",
       "2020-01-29 00:00:00-05:00  114.130  114.3500  114.1108  114.30  2630910   \n",
       "2020-01-30 00:00:00-05:00  114.280  114.5400  114.2350  114.32  5275931   \n",
       "2020-01-31 00:00:00-05:00  114.480  114.6667  114.3800  114.64  4547253   \n",
       "2020-02-03 00:00:00-05:00  114.215  114.4100  114.0848  114.36  6461793   \n",
       "2020-02-04 00:00:00-05:00  114.100  114.1000  113.8880  114.00  3260230   \n",
       "\n",
       "                              SPY                                    \n",
       "                             open    high     low   close    volume  \n",
       "2020-01-29 00:00:00-05:00  328.38  328.63  326.40  326.62  41098344  \n",
       "2020-01-30 00:00:00-05:00  324.36  327.91  323.54  327.66  63015371  \n",
       "2020-01-31 00:00:00-05:00  327.00  327.17  320.74  321.74  88674257  \n",
       "2020-02-03 00:00:00-05:00  323.35  326.16  323.22  324.14  55970373  \n",
       "2020-02-04 00:00:00-05:00  328.07  330.01  327.72  329.08  49979314  "
      ]
     },
     "execution_count": 14,
     "metadata": {},
     "output_type": "execute_result"
    }
   ],
   "source": [
    "# Format current date as ISO format\n",
    "start = pd.Timestamp(\"2020-01-29\", tz=\"America/New_York\").isoformat()\n",
    "end = pd.Timestamp(\"2021-01-29\", tz=\"America/New_York\").isoformat()\n",
    "# Set the tickers\n",
    "tickers = [\"AGG\", \"SPY\"]\n",
    "\n",
    "# Set timeframe to '1D' for Alpaca API\n",
    "timeframe = \"1D\"\n",
    "\n",
    "# Get current closing prices for SPY and AGG\n",
    "df_portfolio = alpaca.get_barset(\n",
    "    tickers,\n",
    "    timeframe,\n",
    "    start = start,\n",
    "    end = end\n",
    ").df\n",
    "\n",
    "# Preview DataFrame\n",
    "df_portfolio.head(5)"
   ]
  },
  {
   "cell_type": "code",
   "execution_count": 15,
   "metadata": {},
   "outputs": [
    {
     "data": {
      "text/html": [
       "<div>\n",
       "<style scoped>\n",
       "    .dataframe tbody tr th:only-of-type {\n",
       "        vertical-align: middle;\n",
       "    }\n",
       "\n",
       "    .dataframe tbody tr th {\n",
       "        vertical-align: top;\n",
       "    }\n",
       "\n",
       "    .dataframe thead th {\n",
       "        text-align: right;\n",
       "    }\n",
       "</style>\n",
       "<table border=\"1\" class=\"dataframe\">\n",
       "  <thead>\n",
       "    <tr style=\"text-align: right;\">\n",
       "      <th></th>\n",
       "      <th>AGG</th>\n",
       "      <th>SPY</th>\n",
       "    </tr>\n",
       "  </thead>\n",
       "  <tbody>\n",
       "    <tr>\n",
       "      <th>2021-01-25</th>\n",
       "      <td>117.54</td>\n",
       "      <td>384.40</td>\n",
       "    </tr>\n",
       "    <tr>\n",
       "      <th>2021-01-26</th>\n",
       "      <td>117.51</td>\n",
       "      <td>383.83</td>\n",
       "    </tr>\n",
       "    <tr>\n",
       "      <th>2021-01-27</th>\n",
       "      <td>117.52</td>\n",
       "      <td>374.44</td>\n",
       "    </tr>\n",
       "    <tr>\n",
       "      <th>2021-01-28</th>\n",
       "      <td>117.43</td>\n",
       "      <td>377.60</td>\n",
       "    </tr>\n",
       "    <tr>\n",
       "      <th>2021-01-29</th>\n",
       "      <td>117.32</td>\n",
       "      <td>370.19</td>\n",
       "    </tr>\n",
       "  </tbody>\n",
       "</table>\n",
       "</div>"
      ],
      "text/plain": [
       "               AGG     SPY\n",
       "2021-01-25  117.54  384.40\n",
       "2021-01-26  117.51  383.83\n",
       "2021-01-27  117.52  374.44\n",
       "2021-01-28  117.43  377.60\n",
       "2021-01-29  117.32  370.19"
      ]
     },
     "execution_count": 15,
     "metadata": {},
     "output_type": "execute_result"
    }
   ],
   "source": [
    "# Pick AGG and SPY close prices\n",
    "df_closing_prices = pd.DataFrame()\n",
    "\n",
    "df_closing_prices['AGG'] = df_portfolio['AGG']['close']\n",
    "df_closing_prices['SPY'] = df_portfolio['SPY']['close']\n",
    "df_closing_prices.index = df_closing_prices.index.date\n",
    "df_closing_prices.tail()\n",
    "\n"
   ]
  },
  {
   "cell_type": "code",
   "execution_count": 16,
   "metadata": {},
   "outputs": [
    {
     "name": "stdout",
     "output_type": "stream",
     "text": [
      "Current AGG closing price: $117.32\n",
      "Current SPY closing price: $370.19\n"
     ]
    }
   ],
   "source": [
    "agg_close_price = float(df_portfolio[\"AGG\"][\"close\"][-1])\n",
    "spy_close_price = float(df_portfolio[\"SPY\"][\"close\"][-1])\n",
    "# Print AGG and SPY close prices\n",
    "print(f\"Current AGG closing price: ${agg_close_price}\")\n",
    "print(f\"Current SPY closing price: ${spy_close_price}\")"
   ]
  },
  {
   "cell_type": "code",
   "execution_count": 17,
   "metadata": {},
   "outputs": [
    {
     "name": "stdout",
     "output_type": "stream",
     "text": [
      "The current value of your 50 SPY shares is $74038.00\n",
      "The current value of your 200 AGG shares is $23464.00\n"
     ]
    }
   ],
   "source": [
    "# Compute the current value of shares\n",
    "my_agg_value = agg_close_price * my_agg\n",
    "my_spy_value = spy_close_price * my_agg\n",
    "\n",
    "# Print current value of share\n",
    "print(f\"The current value of your {my_spy} SPY shares is ${my_spy_value:0.2f}\")\n",
    "print(f\"The current value of your {my_agg} AGG shares is ${my_agg_value:0.2f}\")"
   ]
  },
  {
   "cell_type": "markdown",
   "metadata": {},
   "source": [
    "### Savings Health Analysis"
   ]
  },
  {
   "cell_type": "code",
   "execution_count": 18,
   "metadata": {},
   "outputs": [
    {
     "data": {
      "text/html": [
       "<div>\n",
       "<style scoped>\n",
       "    .dataframe tbody tr th:only-of-type {\n",
       "        vertical-align: middle;\n",
       "    }\n",
       "\n",
       "    .dataframe tbody tr th {\n",
       "        vertical-align: top;\n",
       "    }\n",
       "\n",
       "    .dataframe thead th {\n",
       "        text-align: right;\n",
       "    }\n",
       "</style>\n",
       "<table border=\"1\" class=\"dataframe\">\n",
       "  <thead>\n",
       "    <tr style=\"text-align: right;\">\n",
       "      <th></th>\n",
       "      <th>amount</th>\n",
       "    </tr>\n",
       "  </thead>\n",
       "  <tbody>\n",
       "    <tr>\n",
       "      <th>crypto</th>\n",
       "      <td>47914.103</td>\n",
       "    </tr>\n",
       "    <tr>\n",
       "      <th>shares</th>\n",
       "      <td>97502.000</td>\n",
       "    </tr>\n",
       "  </tbody>\n",
       "</table>\n",
       "</div>"
      ],
      "text/plain": [
       "           amount\n",
       "crypto  47914.103\n",
       "shares  97502.000"
      ]
     },
     "metadata": {},
     "output_type": "display_data"
    }
   ],
   "source": [
    "# Set monthly household income\n",
    "monthly_income = 12000\n",
    "\n",
    "# Create savings DataFrame\n",
    "amount_data = {\n",
    "    \"amount\": [my_btc_value+my_eth_value,my_agg_value+my_spy_value]\n",
    "}\n",
    "\n",
    "Pft = [\"crypto\", \"shares\"]\n",
    "\n",
    "df_savings = pd.DataFrame(amount_data, index=Pft)\n",
    "\n",
    "# Display savings DataFrame\n",
    "display(df_savings)\n"
   ]
  },
  {
   "cell_type": "code",
   "execution_count": 19,
   "metadata": {},
   "outputs": [
    {
     "data": {
      "text/plain": [
       "<matplotlib.axes._subplots.AxesSubplot at 0x22375c90550>"
      ]
     },
     "execution_count": 19,
     "metadata": {},
     "output_type": "execute_result"
    },
    {
     "data": {
      "image/png": "[encoded data removed]",
      "text/plain": [
       "<Figure size 432x288 with 1 Axes>"
      ]
     },
     "metadata": {},
     "output_type": "display_data"
    }
   ],
   "source": [
    "# Plot savings pie chart\n",
    "\n",
    "df_savings.plot.pie(y=\"amount\", title=\"Composition of Personal Savings\")"
   ]
  },
  {
   "cell_type": "code",
   "execution_count": 20,
   "metadata": {},
   "outputs": [
    {
     "name": "stdout",
     "output_type": "stream",
     "text": [
      "Congratulations! You have enough money in your emergency fund\n"
     ]
    }
   ],
   "source": [
    "# Set ideal emergency fund\n",
    "emergency_fund = monthly_income * 3\n",
    "\n",
    "# Calculate total amount of savings\n",
    "total_savings = float(df_savings.sum())\n",
    "\n",
    "\n",
    "# Validate saving health\n",
    "if total_savings > emergency_fund:\n",
    "    print(\"Congratulations! You have enough money in your emergency fund\")\n",
    "elif total_savings == emergency_fund:\n",
    "    print(\"congratulation! You are achieving your financial goal\")\n",
    "else:\n",
    "    amount_required = emergency_fund - total_savings\n",
    "    print(f\"You need ${amount_required} to reach your goal\")  "
   ]
  },
  {
   "cell_type": "markdown",
   "metadata": {},
   "source": [
    "## Part 2 - Retirement Planning\n",
    "\n",
    "### Monte Carlo Simulation"
   ]
  },
  {
   "cell_type": "code",
   "execution_count": 21,
   "metadata": {},
   "outputs": [],
   "source": [
    "# Set start and end dates of five years back from today.\n",
    "start_date = pd.Timestamp('2016-01-29', tz='America/New_York').isoformat()\n",
    "end_date = pd.Timestamp('2021-01-29', tz='America/New_York').isoformat()"
   ]
  },
  {
   "cell_type": "code",
   "execution_count": 22,
   "metadata": {},
   "outputs": [
    {
     "data": {
      "text/html": [
       "<div>\n",
       "<style scoped>\n",
       "    .dataframe tbody tr th:only-of-type {\n",
       "        vertical-align: middle;\n",
       "    }\n",
       "\n",
       "    .dataframe tbody tr th {\n",
       "        vertical-align: top;\n",
       "    }\n",
       "\n",
       "    .dataframe thead tr th {\n",
       "        text-align: left;\n",
       "    }\n",
       "</style>\n",
       "<table border=\"1\" class=\"dataframe\">\n",
       "  <thead>\n",
       "    <tr>\n",
       "      <th></th>\n",
       "      <th colspan=\"5\" halign=\"left\">AGG</th>\n",
       "      <th colspan=\"5\" halign=\"left\">SPY</th>\n",
       "    </tr>\n",
       "    <tr>\n",
       "      <th></th>\n",
       "      <th>open</th>\n",
       "      <th>high</th>\n",
       "      <th>low</th>\n",
       "      <th>close</th>\n",
       "      <th>volume</th>\n",
       "      <th>open</th>\n",
       "      <th>high</th>\n",
       "      <th>low</th>\n",
       "      <th>close</th>\n",
       "      <th>volume</th>\n",
       "    </tr>\n",
       "  </thead>\n",
       "  <tbody>\n",
       "    <tr>\n",
       "      <th>2020-01-29 00:00:00-05:00</th>\n",
       "      <td>114.13</td>\n",
       "      <td>114.3500</td>\n",
       "      <td>114.1108</td>\n",
       "      <td>114.30</td>\n",
       "      <td>2628807</td>\n",
       "      <td>328.38</td>\n",
       "      <td>328.63</td>\n",
       "      <td>326.40</td>\n",
       "      <td>326.62</td>\n",
       "      <td>43526297</td>\n",
       "    </tr>\n",
       "    <tr>\n",
       "      <th>2020-01-30 00:00:00-05:00</th>\n",
       "      <td>114.28</td>\n",
       "      <td>114.5400</td>\n",
       "      <td>114.2350</td>\n",
       "      <td>114.32</td>\n",
       "      <td>5280578</td>\n",
       "      <td>324.36</td>\n",
       "      <td>327.91</td>\n",
       "      <td>323.54</td>\n",
       "      <td>327.66</td>\n",
       "      <td>67790010</td>\n",
       "    </tr>\n",
       "    <tr>\n",
       "      <th>2020-01-31 00:00:00-05:00</th>\n",
       "      <td>114.48</td>\n",
       "      <td>114.6667</td>\n",
       "      <td>114.3800</td>\n",
       "      <td>114.64</td>\n",
       "      <td>4547253</td>\n",
       "      <td>327.00</td>\n",
       "      <td>327.17</td>\n",
       "      <td>320.73</td>\n",
       "      <td>321.74</td>\n",
       "      <td>94752845</td>\n",
       "    </tr>\n",
       "    <tr>\n",
       "      <th>2020-02-03 00:00:00-05:00</th>\n",
       "      <td>114.20</td>\n",
       "      <td>114.4100</td>\n",
       "      <td>114.0848</td>\n",
       "      <td>114.36</td>\n",
       "      <td>6583548</td>\n",
       "      <td>323.35</td>\n",
       "      <td>326.16</td>\n",
       "      <td>323.22</td>\n",
       "      <td>324.14</td>\n",
       "      <td>59060165</td>\n",
       "    </tr>\n",
       "    <tr>\n",
       "      <th>2020-02-04 00:00:00-05:00</th>\n",
       "      <td>114.10</td>\n",
       "      <td>114.1000</td>\n",
       "      <td>113.8880</td>\n",
       "      <td>114.00</td>\n",
       "      <td>3260230</td>\n",
       "      <td>328.07</td>\n",
       "      <td>330.01</td>\n",
       "      <td>327.72</td>\n",
       "      <td>329.08</td>\n",
       "      <td>52512833</td>\n",
       "    </tr>\n",
       "  </tbody>\n",
       "</table>\n",
       "</div>"
      ],
      "text/plain": [
       "                              AGG                                       \\\n",
       "                             open      high       low   close   volume   \n",
       "2020-01-29 00:00:00-05:00  114.13  114.3500  114.1108  114.30  2628807   \n",
       "2020-01-30 00:00:00-05:00  114.28  114.5400  114.2350  114.32  5280578   \n",
       "2020-01-31 00:00:00-05:00  114.48  114.6667  114.3800  114.64  4547253   \n",
       "2020-02-03 00:00:00-05:00  114.20  114.4100  114.0848  114.36  6583548   \n",
       "2020-02-04 00:00:00-05:00  114.10  114.1000  113.8880  114.00  3260230   \n",
       "\n",
       "                              SPY                                    \n",
       "                             open    high     low   close    volume  \n",
       "2020-01-29 00:00:00-05:00  328.38  328.63  326.40  326.62  43526297  \n",
       "2020-01-30 00:00:00-05:00  324.36  327.91  323.54  327.66  67790010  \n",
       "2020-01-31 00:00:00-05:00  327.00  327.17  320.73  321.74  94752845  \n",
       "2020-02-03 00:00:00-05:00  323.35  326.16  323.22  324.14  59060165  \n",
       "2020-02-04 00:00:00-05:00  328.07  330.01  327.72  329.08  52512833  "
      ]
     },
     "execution_count": 22,
     "metadata": {},
     "output_type": "execute_result"
    }
   ],
   "source": [
    "# Get 5 years' worth of historical data for SPY and AGG\n",
    "df_stock_data = alpaca.get_barset(\n",
    "    tickers,\n",
    "    timeframe,\n",
    "    start=start,\n",
    "    end=end\n",
    ").df\n",
    "\n",
    "# Display sample data\n",
    "df_stock_data.head()"
   ]
  },
  {
   "cell_type": "code",
   "execution_count": 23,
   "metadata": {},
   "outputs": [],
   "source": [
    "# Configuring a Monte Carlo simulation to forecast 30 years cumulative returns\n",
    "MC_thirtyyear = MCSimulation(\n",
    "    portfolio_data = df_stock_data,\n",
    "    weights = [0.4,0.6],\n",
    "    num_simulation = 500,\n",
    "    num_trading_days = 252 * 30\n",
    ")"
   ]
  },
  {
   "cell_type": "code",
   "execution_count": 24,
   "metadata": {},
   "outputs": [
    {
     "data": {
      "text/html": [
       "<div>\n",
       "<style scoped>\n",
       "    .dataframe tbody tr th:only-of-type {\n",
       "        vertical-align: middle;\n",
       "    }\n",
       "\n",
       "    .dataframe tbody tr th {\n",
       "        vertical-align: top;\n",
       "    }\n",
       "\n",
       "    .dataframe thead tr th {\n",
       "        text-align: left;\n",
       "    }\n",
       "</style>\n",
       "<table border=\"1\" class=\"dataframe\">\n",
       "  <thead>\n",
       "    <tr>\n",
       "      <th></th>\n",
       "      <th colspan=\"6\" halign=\"left\">AGG</th>\n",
       "      <th colspan=\"6\" halign=\"left\">SPY</th>\n",
       "    </tr>\n",
       "    <tr>\n",
       "      <th></th>\n",
       "      <th>open</th>\n",
       "      <th>high</th>\n",
       "      <th>low</th>\n",
       "      <th>close</th>\n",
       "      <th>volume</th>\n",
       "      <th>daily_return</th>\n",
       "      <th>open</th>\n",
       "      <th>high</th>\n",
       "      <th>low</th>\n",
       "      <th>close</th>\n",
       "      <th>volume</th>\n",
       "      <th>daily_return</th>\n",
       "    </tr>\n",
       "  </thead>\n",
       "  <tbody>\n",
       "    <tr>\n",
       "      <th>2020-01-29 00:00:00-05:00</th>\n",
       "      <td>114.13</td>\n",
       "      <td>114.3500</td>\n",
       "      <td>114.1108</td>\n",
       "      <td>114.30</td>\n",
       "      <td>2628807</td>\n",
       "      <td>NaN</td>\n",
       "      <td>328.38</td>\n",
       "      <td>328.63</td>\n",
       "      <td>326.40</td>\n",
       "      <td>326.62</td>\n",
       "      <td>43526297</td>\n",
       "      <td>NaN</td>\n",
       "    </tr>\n",
       "    <tr>\n",
       "      <th>2020-01-30 00:00:00-05:00</th>\n",
       "      <td>114.28</td>\n",
       "      <td>114.5400</td>\n",
       "      <td>114.2350</td>\n",
       "      <td>114.32</td>\n",
       "      <td>5280578</td>\n",
       "      <td>0.000175</td>\n",
       "      <td>324.36</td>\n",
       "      <td>327.91</td>\n",
       "      <td>323.54</td>\n",
       "      <td>327.66</td>\n",
       "      <td>67790010</td>\n",
       "      <td>0.003184</td>\n",
       "    </tr>\n",
       "    <tr>\n",
       "      <th>2020-01-31 00:00:00-05:00</th>\n",
       "      <td>114.48</td>\n",
       "      <td>114.6667</td>\n",
       "      <td>114.3800</td>\n",
       "      <td>114.64</td>\n",
       "      <td>4547253</td>\n",
       "      <td>0.002799</td>\n",
       "      <td>327.00</td>\n",
       "      <td>327.17</td>\n",
       "      <td>320.73</td>\n",
       "      <td>321.74</td>\n",
       "      <td>94752845</td>\n",
       "      <td>-0.018068</td>\n",
       "    </tr>\n",
       "    <tr>\n",
       "      <th>2020-02-03 00:00:00-05:00</th>\n",
       "      <td>114.20</td>\n",
       "      <td>114.4100</td>\n",
       "      <td>114.0848</td>\n",
       "      <td>114.36</td>\n",
       "      <td>6583548</td>\n",
       "      <td>-0.002442</td>\n",
       "      <td>323.35</td>\n",
       "      <td>326.16</td>\n",
       "      <td>323.22</td>\n",
       "      <td>324.14</td>\n",
       "      <td>59060165</td>\n",
       "      <td>0.007459</td>\n",
       "    </tr>\n",
       "    <tr>\n",
       "      <th>2020-02-04 00:00:00-05:00</th>\n",
       "      <td>114.10</td>\n",
       "      <td>114.1000</td>\n",
       "      <td>113.8880</td>\n",
       "      <td>114.00</td>\n",
       "      <td>3260230</td>\n",
       "      <td>-0.003148</td>\n",
       "      <td>328.07</td>\n",
       "      <td>330.01</td>\n",
       "      <td>327.72</td>\n",
       "      <td>329.08</td>\n",
       "      <td>52512833</td>\n",
       "      <td>0.015240</td>\n",
       "    </tr>\n",
       "  </tbody>\n",
       "</table>\n",
       "</div>"
      ],
      "text/plain": [
       "                              AGG                                       \\\n",
       "                             open      high       low   close   volume   \n",
       "2020-01-29 00:00:00-05:00  114.13  114.3500  114.1108  114.30  2628807   \n",
       "2020-01-30 00:00:00-05:00  114.28  114.5400  114.2350  114.32  5280578   \n",
       "2020-01-31 00:00:00-05:00  114.48  114.6667  114.3800  114.64  4547253   \n",
       "2020-02-03 00:00:00-05:00  114.20  114.4100  114.0848  114.36  6583548   \n",
       "2020-02-04 00:00:00-05:00  114.10  114.1000  113.8880  114.00  3260230   \n",
       "\n",
       "                                           SPY                          \\\n",
       "                          daily_return    open    high     low   close   \n",
       "2020-01-29 00:00:00-05:00          NaN  328.38  328.63  326.40  326.62   \n",
       "2020-01-30 00:00:00-05:00     0.000175  324.36  327.91  323.54  327.66   \n",
       "2020-01-31 00:00:00-05:00     0.002799  327.00  327.17  320.73  321.74   \n",
       "2020-02-03 00:00:00-05:00    -0.002442  323.35  326.16  323.22  324.14   \n",
       "2020-02-04 00:00:00-05:00    -0.003148  328.07  330.01  327.72  329.08   \n",
       "\n",
       "                                                  \n",
       "                             volume daily_return  \n",
       "2020-01-29 00:00:00-05:00  43526297          NaN  \n",
       "2020-01-30 00:00:00-05:00  67790010     0.003184  \n",
       "2020-01-31 00:00:00-05:00  94752845    -0.018068  \n",
       "2020-02-03 00:00:00-05:00  59060165     0.007459  \n",
       "2020-02-04 00:00:00-05:00  52512833     0.015240  "
      ]
     },
     "execution_count": 24,
     "metadata": {},
     "output_type": "execute_result"
    }
   ],
   "source": [
    "# Printing the simulation input data\n",
    "MC_thirtyyear.portfolio_data.head()"
   ]
  },
  {
   "cell_type": "code",
   "execution_count": 25,
   "metadata": {},
   "outputs": [
    {
     "name": "stdout",
     "output_type": "stream",
     "text": [
      "Running Monte Carlo simulation number 0.\n",
      "Running Monte Carlo simulation number 10.\n",
      "Running Monte Carlo simulation number 20.\n",
      "Running Monte Carlo simulation number 30.\n",
      "Running Monte Carlo simulation number 40.\n",
      "Running Monte Carlo simulation number 50.\n",
      "Running Monte Carlo simulation number 60.\n",
      "Running Monte Carlo simulation number 70.\n",
      "Running Monte Carlo simulation number 80.\n",
      "Running Monte Carlo simulation number 90.\n",
      "Running Monte Carlo simulation number 100.\n",
      "Running Monte Carlo simulation number 110.\n",
      "Running Monte Carlo simulation number 120.\n",
      "Running Monte Carlo simulation number 130.\n",
      "Running Monte Carlo simulation number 140.\n",
      "Running Monte Carlo simulation number 150.\n",
      "Running Monte Carlo simulation number 160.\n",
      "Running Monte Carlo simulation number 170.\n",
      "Running Monte Carlo simulation number 180.\n",
      "Running Monte Carlo simulation number 190.\n",
      "Running Monte Carlo simulation number 200.\n",
      "Running Monte Carlo simulation number 210.\n",
      "Running Monte Carlo simulation number 220.\n",
      "Running Monte Carlo simulation number 230.\n",
      "Running Monte Carlo simulation number 240.\n",
      "Running Monte Carlo simulation number 250.\n",
      "Running Monte Carlo simulation number 260.\n",
      "Running Monte Carlo simulation number 270.\n",
      "Running Monte Carlo simulation number 280.\n",
      "Running Monte Carlo simulation number 290.\n",
      "Running Monte Carlo simulation number 300.\n",
      "Running Monte Carlo simulation number 310.\n",
      "Running Monte Carlo simulation number 320.\n",
      "Running Monte Carlo simulation number 330.\n",
      "Running Monte Carlo simulation number 340.\n",
      "Running Monte Carlo simulation number 350.\n",
      "Running Monte Carlo simulation number 360.\n",
      "Running Monte Carlo simulation number 370.\n",
      "Running Monte Carlo simulation number 380.\n",
      "Running Monte Carlo simulation number 390.\n",
      "Running Monte Carlo simulation number 400.\n",
      "Running Monte Carlo simulation number 410.\n",
      "Running Monte Carlo simulation number 420.\n",
      "Running Monte Carlo simulation number 430.\n",
      "Running Monte Carlo simulation number 440.\n",
      "Running Monte Carlo simulation number 450.\n",
      "Running Monte Carlo simulation number 460.\n",
      "Running Monte Carlo simulation number 470.\n",
      "Running Monte Carlo simulation number 480.\n",
      "Running Monte Carlo simulation number 490.\n"
     ]
    },
    {
     "data": {
      "text/html": [
       "<div>\n",
       "<style scoped>\n",
       "    .dataframe tbody tr th:only-of-type {\n",
       "        vertical-align: middle;\n",
       "    }\n",
       "\n",
       "    .dataframe tbody tr th {\n",
       "        vertical-align: top;\n",
       "    }\n",
       "\n",
       "    .dataframe thead th {\n",
       "        text-align: right;\n",
       "    }\n",
       "</style>\n",
       "<table border=\"1\" class=\"dataframe\">\n",
       "  <thead>\n",
       "    <tr style=\"text-align: right;\">\n",
       "      <th></th>\n",
       "      <th>0</th>\n",
       "      <th>1</th>\n",
       "      <th>2</th>\n",
       "      <th>3</th>\n",
       "      <th>4</th>\n",
       "      <th>5</th>\n",
       "      <th>6</th>\n",
       "      <th>7</th>\n",
       "      <th>8</th>\n",
       "      <th>9</th>\n",
       "      <th>...</th>\n",
       "      <th>490</th>\n",
       "      <th>491</th>\n",
       "      <th>492</th>\n",
       "      <th>493</th>\n",
       "      <th>494</th>\n",
       "      <th>495</th>\n",
       "      <th>496</th>\n",
       "      <th>497</th>\n",
       "      <th>498</th>\n",
       "      <th>499</th>\n",
       "    </tr>\n",
       "  </thead>\n",
       "  <tbody>\n",
       "    <tr>\n",
       "      <th>0</th>\n",
       "      <td>1.000000</td>\n",
       "      <td>1.000000</td>\n",
       "      <td>1.000000</td>\n",
       "      <td>1.000000</td>\n",
       "      <td>1.000000</td>\n",
       "      <td>1.000000</td>\n",
       "      <td>1.000000</td>\n",
       "      <td>1.000000</td>\n",
       "      <td>1.000000</td>\n",
       "      <td>1.000000</td>\n",
       "      <td>...</td>\n",
       "      <td>1.000000</td>\n",
       "      <td>1.000000</td>\n",
       "      <td>1.000000</td>\n",
       "      <td>1.000000</td>\n",
       "      <td>1.000000</td>\n",
       "      <td>1.000000</td>\n",
       "      <td>1.000000</td>\n",
       "      <td>1.000000</td>\n",
       "      <td>1.000000</td>\n",
       "      <td>1.000000</td>\n",
       "    </tr>\n",
       "    <tr>\n",
       "      <th>1</th>\n",
       "      <td>1.001363</td>\n",
       "      <td>0.993085</td>\n",
       "      <td>1.008840</td>\n",
       "      <td>1.003953</td>\n",
       "      <td>1.000964</td>\n",
       "      <td>0.998682</td>\n",
       "      <td>1.012571</td>\n",
       "      <td>1.005841</td>\n",
       "      <td>1.017489</td>\n",
       "      <td>1.007911</td>\n",
       "      <td>...</td>\n",
       "      <td>0.995844</td>\n",
       "      <td>1.000960</td>\n",
       "      <td>1.013395</td>\n",
       "      <td>1.008852</td>\n",
       "      <td>1.000095</td>\n",
       "      <td>1.003912</td>\n",
       "      <td>0.979616</td>\n",
       "      <td>0.997110</td>\n",
       "      <td>0.994140</td>\n",
       "      <td>1.012371</td>\n",
       "    </tr>\n",
       "    <tr>\n",
       "      <th>2</th>\n",
       "      <td>0.975008</td>\n",
       "      <td>1.001549</td>\n",
       "      <td>1.009811</td>\n",
       "      <td>1.011999</td>\n",
       "      <td>0.997894</td>\n",
       "      <td>1.003116</td>\n",
       "      <td>1.013751</td>\n",
       "      <td>1.009099</td>\n",
       "      <td>1.023898</td>\n",
       "      <td>1.029912</td>\n",
       "      <td>...</td>\n",
       "      <td>0.998449</td>\n",
       "      <td>1.027788</td>\n",
       "      <td>1.024684</td>\n",
       "      <td>1.001173</td>\n",
       "      <td>1.008828</td>\n",
       "      <td>0.993695</td>\n",
       "      <td>0.986466</td>\n",
       "      <td>1.007936</td>\n",
       "      <td>0.998335</td>\n",
       "      <td>1.004538</td>\n",
       "    </tr>\n",
       "    <tr>\n",
       "      <th>3</th>\n",
       "      <td>0.988758</td>\n",
       "      <td>1.009883</td>\n",
       "      <td>0.987563</td>\n",
       "      <td>1.023944</td>\n",
       "      <td>0.999350</td>\n",
       "      <td>0.977692</td>\n",
       "      <td>1.019105</td>\n",
       "      <td>1.010019</td>\n",
       "      <td>1.017139</td>\n",
       "      <td>1.029476</td>\n",
       "      <td>...</td>\n",
       "      <td>0.986757</td>\n",
       "      <td>1.044305</td>\n",
       "      <td>1.039441</td>\n",
       "      <td>1.002411</td>\n",
       "      <td>1.015295</td>\n",
       "      <td>1.006546</td>\n",
       "      <td>0.980197</td>\n",
       "      <td>0.996244</td>\n",
       "      <td>1.006882</td>\n",
       "      <td>0.996604</td>\n",
       "    </tr>\n",
       "    <tr>\n",
       "      <th>4</th>\n",
       "      <td>0.995553</td>\n",
       "      <td>1.021761</td>\n",
       "      <td>1.014814</td>\n",
       "      <td>1.013118</td>\n",
       "      <td>1.013956</td>\n",
       "      <td>0.989518</td>\n",
       "      <td>1.006303</td>\n",
       "      <td>1.000229</td>\n",
       "      <td>1.003867</td>\n",
       "      <td>1.018309</td>\n",
       "      <td>...</td>\n",
       "      <td>0.985032</td>\n",
       "      <td>1.032821</td>\n",
       "      <td>1.023402</td>\n",
       "      <td>1.010266</td>\n",
       "      <td>1.010054</td>\n",
       "      <td>0.993111</td>\n",
       "      <td>0.970356</td>\n",
       "      <td>1.002019</td>\n",
       "      <td>1.006406</td>\n",
       "      <td>1.000439</td>\n",
       "    </tr>\n",
       "    <tr>\n",
       "      <th>...</th>\n",
       "      <td>...</td>\n",
       "      <td>...</td>\n",
       "      <td>...</td>\n",
       "      <td>...</td>\n",
       "      <td>...</td>\n",
       "      <td>...</td>\n",
       "      <td>...</td>\n",
       "      <td>...</td>\n",
       "      <td>...</td>\n",
       "      <td>...</td>\n",
       "      <td>...</td>\n",
       "      <td>...</td>\n",
       "      <td>...</td>\n",
       "      <td>...</td>\n",
       "      <td>...</td>\n",
       "      <td>...</td>\n",
       "      <td>...</td>\n",
       "      <td>...</td>\n",
       "      <td>...</td>\n",
       "      <td>...</td>\n",
       "      <td>...</td>\n",
       "    </tr>\n",
       "    <tr>\n",
       "      <th>7556</th>\n",
       "      <td>6.698935</td>\n",
       "      <td>36.959861</td>\n",
       "      <td>6.019315</td>\n",
       "      <td>33.856761</td>\n",
       "      <td>36.069381</td>\n",
       "      <td>14.984128</td>\n",
       "      <td>17.910966</td>\n",
       "      <td>30.451094</td>\n",
       "      <td>14.066239</td>\n",
       "      <td>38.838033</td>\n",
       "      <td>...</td>\n",
       "      <td>25.678463</td>\n",
       "      <td>3.420142</td>\n",
       "      <td>50.122413</td>\n",
       "      <td>7.632004</td>\n",
       "      <td>15.634932</td>\n",
       "      <td>20.457310</td>\n",
       "      <td>11.765194</td>\n",
       "      <td>342.727892</td>\n",
       "      <td>33.209424</td>\n",
       "      <td>15.411516</td>\n",
       "    </tr>\n",
       "    <tr>\n",
       "      <th>7557</th>\n",
       "      <td>6.656111</td>\n",
       "      <td>37.511932</td>\n",
       "      <td>5.931723</td>\n",
       "      <td>33.444268</td>\n",
       "      <td>36.801192</td>\n",
       "      <td>14.695452</td>\n",
       "      <td>18.148649</td>\n",
       "      <td>29.809749</td>\n",
       "      <td>14.059481</td>\n",
       "      <td>38.439399</td>\n",
       "      <td>...</td>\n",
       "      <td>25.351762</td>\n",
       "      <td>3.409851</td>\n",
       "      <td>50.344031</td>\n",
       "      <td>7.750227</td>\n",
       "      <td>15.663909</td>\n",
       "      <td>20.073224</td>\n",
       "      <td>11.534016</td>\n",
       "      <td>343.009529</td>\n",
       "      <td>33.982497</td>\n",
       "      <td>15.225389</td>\n",
       "    </tr>\n",
       "    <tr>\n",
       "      <th>7558</th>\n",
       "      <td>6.593856</td>\n",
       "      <td>37.418114</td>\n",
       "      <td>5.872935</td>\n",
       "      <td>33.211035</td>\n",
       "      <td>36.263220</td>\n",
       "      <td>14.545634</td>\n",
       "      <td>18.301272</td>\n",
       "      <td>29.698708</td>\n",
       "      <td>14.256428</td>\n",
       "      <td>37.902235</td>\n",
       "      <td>...</td>\n",
       "      <td>25.557576</td>\n",
       "      <td>3.360672</td>\n",
       "      <td>49.914724</td>\n",
       "      <td>7.703030</td>\n",
       "      <td>15.752150</td>\n",
       "      <td>20.024550</td>\n",
       "      <td>11.309782</td>\n",
       "      <td>344.592539</td>\n",
       "      <td>33.580711</td>\n",
       "      <td>15.175359</td>\n",
       "    </tr>\n",
       "    <tr>\n",
       "      <th>7559</th>\n",
       "      <td>6.682504</td>\n",
       "      <td>37.311743</td>\n",
       "      <td>5.835662</td>\n",
       "      <td>32.628351</td>\n",
       "      <td>36.550057</td>\n",
       "      <td>14.416342</td>\n",
       "      <td>18.445546</td>\n",
       "      <td>30.529468</td>\n",
       "      <td>14.486492</td>\n",
       "      <td>38.213915</td>\n",
       "      <td>...</td>\n",
       "      <td>25.547834</td>\n",
       "      <td>3.333943</td>\n",
       "      <td>50.180688</td>\n",
       "      <td>7.734175</td>\n",
       "      <td>15.872524</td>\n",
       "      <td>20.077320</td>\n",
       "      <td>11.206149</td>\n",
       "      <td>339.563749</td>\n",
       "      <td>33.977195</td>\n",
       "      <td>15.011956</td>\n",
       "    </tr>\n",
       "    <tr>\n",
       "      <th>7560</th>\n",
       "      <td>6.706402</td>\n",
       "      <td>36.709888</td>\n",
       "      <td>5.929165</td>\n",
       "      <td>32.440863</td>\n",
       "      <td>36.342311</td>\n",
       "      <td>14.612203</td>\n",
       "      <td>17.997923</td>\n",
       "      <td>29.891361</td>\n",
       "      <td>14.067072</td>\n",
       "      <td>38.133752</td>\n",
       "      <td>...</td>\n",
       "      <td>25.332492</td>\n",
       "      <td>3.364484</td>\n",
       "      <td>51.061998</td>\n",
       "      <td>7.501453</td>\n",
       "      <td>15.962783</td>\n",
       "      <td>19.646070</td>\n",
       "      <td>11.459155</td>\n",
       "      <td>340.594759</td>\n",
       "      <td>34.677965</td>\n",
       "      <td>14.820286</td>\n",
       "    </tr>\n",
       "  </tbody>\n",
       "</table>\n",
       "<p>7561 rows × 500 columns</p>\n",
       "</div>"
      ],
      "text/plain": [
       "           0          1         2          3          4          5    \\\n",
       "0     1.000000   1.000000  1.000000   1.000000   1.000000   1.000000   \n",
       "1     1.001363   0.993085  1.008840   1.003953   1.000964   0.998682   \n",
       "2     0.975008   1.001549  1.009811   1.011999   0.997894   1.003116   \n",
       "3     0.988758   1.009883  0.987563   1.023944   0.999350   0.977692   \n",
       "4     0.995553   1.021761  1.014814   1.013118   1.013956   0.989518   \n",
       "...        ...        ...       ...        ...        ...        ...   \n",
       "7556  6.698935  36.959861  6.019315  33.856761  36.069381  14.984128   \n",
       "7557  6.656111  37.511932  5.931723  33.444268  36.801192  14.695452   \n",
       "7558  6.593856  37.418114  5.872935  33.211035  36.263220  14.545634   \n",
       "7559  6.682504  37.311743  5.835662  32.628351  36.550057  14.416342   \n",
       "7560  6.706402  36.709888  5.929165  32.440863  36.342311  14.612203   \n",
       "\n",
       "            6          7          8          9    ...        490       491  \\\n",
       "0      1.000000   1.000000   1.000000   1.000000  ...   1.000000  1.000000   \n",
       "1      1.012571   1.005841   1.017489   1.007911  ...   0.995844  1.000960   \n",
       "2      1.013751   1.009099   1.023898   1.029912  ...   0.998449  1.027788   \n",
       "3      1.019105   1.010019   1.017139   1.029476  ...   0.986757  1.044305   \n",
       "4      1.006303   1.000229   1.003867   1.018309  ...   0.985032  1.032821   \n",
       "...         ...        ...        ...        ...  ...        ...       ...   \n",
       "7556  17.910966  30.451094  14.066239  38.838033  ...  25.678463  3.420142   \n",
       "7557  18.148649  29.809749  14.059481  38.439399  ...  25.351762  3.409851   \n",
       "7558  18.301272  29.698708  14.256428  37.902235  ...  25.557576  3.360672   \n",
       "7559  18.445546  30.529468  14.486492  38.213915  ...  25.547834  3.333943   \n",
       "7560  17.997923  29.891361  14.067072  38.133752  ...  25.332492  3.364484   \n",
       "\n",
       "            492       493        494        495        496         497  \\\n",
       "0      1.000000  1.000000   1.000000   1.000000   1.000000    1.000000   \n",
       "1      1.013395  1.008852   1.000095   1.003912   0.979616    0.997110   \n",
       "2      1.024684  1.001173   1.008828   0.993695   0.986466    1.007936   \n",
       "3      1.039441  1.002411   1.015295   1.006546   0.980197    0.996244   \n",
       "4      1.023402  1.010266   1.010054   0.993111   0.970356    1.002019   \n",
       "...         ...       ...        ...        ...        ...         ...   \n",
       "7556  50.122413  7.632004  15.634932  20.457310  11.765194  342.727892   \n",
       "7557  50.344031  7.750227  15.663909  20.073224  11.534016  343.009529   \n",
       "7558  49.914724  7.703030  15.752150  20.024550  11.309782  344.592539   \n",
       "7559  50.180688  7.734175  15.872524  20.077320  11.206149  339.563749   \n",
       "7560  51.061998  7.501453  15.962783  19.646070  11.459155  340.594759   \n",
       "\n",
       "            498        499  \n",
       "0      1.000000   1.000000  \n",
       "1      0.994140   1.012371  \n",
       "2      0.998335   1.004538  \n",
       "3      1.006882   0.996604  \n",
       "4      1.006406   1.000439  \n",
       "...         ...        ...  \n",
       "7556  33.209424  15.411516  \n",
       "7557  33.982497  15.225389  \n",
       "7558  33.580711  15.175359  \n",
       "7559  33.977195  15.011956  \n",
       "7560  34.677965  14.820286  \n",
       "\n",
       "[7561 rows x 500 columns]"
      ]
     },
     "execution_count": 25,
     "metadata": {},
     "output_type": "execute_result"
    }
   ],
   "source": [
    "# Running a Monte Carlo simulation to forecast 30 years cumulative returns\n",
    "MC_thirtyyear.calc_cumulative_return()"
   ]
  },
  {
   "cell_type": "code",
   "execution_count": 26,
   "metadata": {},
   "outputs": [
    {
     "data": {
      "image/png": "[encoded data removed]",
      "text/plain": [
       "<Figure size 432x288 with 1 Axes>"
      ]
     },
     "metadata": {
      "needs_background": "light"
     },
     "output_type": "display_data"
    }
   ],
   "source": [
    "# Plot simulation outcomes\n",
    "Line_plot = MC_thirtyyear.plot_simulation()"
   ]
  },
  {
   "cell_type": "code",
   "execution_count": 27,
   "metadata": {},
   "outputs": [
    {
     "data": {
      "image/png": "[encoded data removed]",
      "text/plain": [
       "<Figure size 432x288 with 1 Axes>"
      ]
     },
     "metadata": {
      "needs_background": "light"
     },
     "output_type": "display_data"
    }
   ],
   "source": [
    "# Plot probability distribution and confidence intervals\n",
    "Line_plot = MC_thirtyyear.plot_distribution()"
   ]
  },
  {
   "cell_type": "markdown",
   "metadata": {},
   "source": [
    "### Retirement Analysis"
   ]
  },
  {
   "cell_type": "code",
   "execution_count": 28,
   "metadata": {},
   "outputs": [
    {
     "data": {
      "text/plain": [
       "count           500.000000\n",
       "mean             35.239011\n",
       "std              56.159656\n",
       "min               0.981754\n",
       "25%              10.028553\n",
       "50%              18.551339\n",
       "75%              36.715242\n",
       "max             571.735929\n",
       "95% CI Lower      2.404301\n",
       "95% CI Upper    181.621328\n",
       "Name: 7560, dtype: float64"
      ]
     },
     "execution_count": 28,
     "metadata": {},
     "output_type": "execute_result"
    }
   ],
   "source": [
    "# Fetch summary statistics from the Monte Carlo simulation results\n",
    "summary = MC_thirtyyear.summarize_cumulative_return()\n",
    "\n",
    "# Print summary statistics\n",
    "summary"
   ]
  },
  {
   "cell_type": "markdown",
   "metadata": {},
   "source": [
    "### Calculate the expected portfolio return at the 95% lower and upper confidence intervals based on a `$20,000` initial investment."
   ]
  },
  {
   "cell_type": "code",
   "execution_count": 29,
   "metadata": {},
   "outputs": [
    {
     "name": "stdout",
     "output_type": "stream",
     "text": [
      "There is a 95% chance that an initial investment of $20000 in the portfolio over the next 30 years will end within in the range of $48086.02 and $3632426.57\n"
     ]
    }
   ],
   "source": [
    "# Set initial investment\n",
    "initial_investment = 20000\n",
    "\n",
    "# Use the lower and upper `95%` confidence intervals to calculate the range of the possible outcomes of our $20,000\n",
    "ci_lower = round(summary[8]*initial_investment,2)\n",
    "ci_upper = round(summary[9]*initial_investment,2)\n",
    "\n",
    "# Print results\n",
    "print(f\"There is a 95% chance that an initial investment of ${initial_investment} in the portfolio\"\n",
    "      f\" over the next 30 years will end within in the range of\"\n",
    "      f\" ${ci_lower} and ${ci_upper}\")"
   ]
  },
  {
   "cell_type": "markdown",
   "metadata": {},
   "source": [
    "### Calculate the expected portfolio return at the `95%` lower and upper confidence intervals based on a `50%` increase in the initial investment."
   ]
  },
  {
   "cell_type": "code",
   "execution_count": 30,
   "metadata": {},
   "outputs": [
    {
     "name": "stdout",
     "output_type": "stream",
     "text": [
      "There is a 95% chance that an initial investment of $30000.0 in the portfolio over the next 30 years will end within in the range of $72129.03 and $5448639.85\n"
     ]
    }
   ],
   "source": [
    "# Set initial investment\n",
    "initial_investment = 20000 * 1.5\n",
    "\n",
    "# Use the lower and upper `95%` confidence intervals to calculate the range of the possible outcomes of our $30,000\n",
    "ci_lower = round(summary[8]*initial_investment,2)\n",
    "ci_upper = round(summary[9]*initial_investment,2)\n",
    "\n",
    "# Print results\n",
    "print(f\"There is a 95% chance that an initial investment of ${initial_investment} in the portfolio\"\n",
    "      f\" over the next 30 years will end within in the range of\"\n",
    "      f\" ${ci_lower} and ${ci_upper}\")"
   ]
  },
  {
   "cell_type": "code",
   "execution_count": null,
   "metadata": {},
   "outputs": [],
   "source": []
  }
 ],
 "metadata": {
  "kernelspec": {
   "display_name": "Python 3",
   "language": "python",
   "name": "python3"
  },
  "language_info": {
   "codemirror_mode": {
    "name": "ipython",
    "version": 3
   },
   "file_extension": ".py",
   "mimetype": "text/x-python",
   "name": "python",
   "nbconvert_exporter": "python",
   "pygments_lexer": "ipython3",
   "version": "3.8.5"
  }
 },
 "nbformat": 4,
 "nbformat_minor": 4
}
